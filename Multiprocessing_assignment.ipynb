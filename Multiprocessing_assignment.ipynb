{
 "cells": [
  {
   "cell_type": "markdown",
   "id": "e8a23e8f-f7e4-481e-b1cb-97f377d35d5b",
   "metadata": {},
   "source": [
    "## Problem_1: What is multiprocessing in Python? Why is it useful?"
   ]
  },
  {
   "cell_type": "markdown",
   "id": "3a2fd36f-ce28-4ae6-aea6-0b86d10318a1",
   "metadata": {},
   "source": [
    "### Multiprocessing is a module that allows you to create and manage multiple processes concurrently. It is a way to achieve parallelism in Python\n",
    "  - By utilizing multiple CPU cores, you can perform tasks simultaneously\n",
    "  - Multiprocessing allows you to run multiple independent tasks concurrently\n",
    "  - Each process runs in its own memory space, ensuring that data is not shared between processes unless explicitly managed."
   ]
  },
  {
   "cell_type": "markdown",
   "id": "23cf019c-59ba-46c1-8e19-92a3f5c8fc52",
   "metadata": {
    "tags": []
   },
   "source": [
    "## Problem_2: What are the differences between multiprocessing and multithreading?"
   ]
  },
  {
   "cell_type": "markdown",
   "id": "7016dcc0-f288-4f94-890a-100962e81e05",
   "metadata": {},
   "source": [
    "  - Multiprocessing and multithreading are both techniques for improving program performance by utilizing multiple processing units (CPUs) in a computer system. \n",
    "\n",
    "#### Process vs Threads:\n",
    "1. Multiprocessing: Deals with multiple processes, which are independent units of execution with their own memory space and resources.\n",
    "2. Multithreading: Deals with multiple threads within a single process. Threads share the memory and resources of the process they belong to."
   ]
  },
  {
   "cell_type": "markdown",
   "id": "df54a632-d2ef-4984-b2ef-3f217d235612",
   "metadata": {},
   "source": [
    "## Problem_3: Write a python code to create a process using the multiprocessing module."
   ]
  },
  {
   "cell_type": "code",
   "execution_count": 3,
   "id": "bfeae08a-a914-4223-a5d5-297ef0e0ade5",
   "metadata": {},
   "outputs": [
    {
     "name": "stdout",
     "output_type": "stream",
     "text": [
      "Message from the process: Hello, multiprocessing!\n",
      "Main process continues.\n"
     ]
    }
   ],
   "source": [
    "import multiprocessing\n",
    "\n",
    "def print_message(message):\n",
    "    print(f\"Message from the process: {message}\")\n",
    "\n",
    "if __name__ == \"__main__\":\n",
    "    message = \"Hello, multiprocessing!\"\n",
    "\n",
    "    # Create a new process\n",
    "    process = multiprocessing.Process(target=print_message, args=(message,))\n",
    "\n",
    "    # Start the process\n",
    "    process.start()\n",
    "\n",
    "    # Wait for the process to finish\n",
    "    process.join()\n",
    "\n",
    "    print(\"Main process continues.\")"
   ]
  },
  {
   "cell_type": "markdown",
   "id": "20e130fb-8d7a-41c6-9df5-d79347496006",
   "metadata": {},
   "source": [
    "## Problem_4: What is multiprocessing pool in python? why is it used?"
   ]
  },
  {
   "cell_type": "markdown",
   "id": "509dfcbc-1705-43c8-af65-83e2d161ea89",
   "metadata": {},
   "source": [
    "  - A multiprocessing pool in Python, achieved using the Pool class from the multiprocessing module, is a way to manage a collection of worker processes for parallel execution of tasks.\n",
    "  \n",
    "####  Use Cases:\n",
    "1. Performing calculations on large datasets (e.g., scientific computing, machine learning)\n",
    "2. Batch processing tasks (e.g., image resizing, file conversion)\n",
    "3. Running simulations or other computationally intensive tasks"
   ]
  },
  {
   "cell_type": "markdown",
   "id": "03b93852-32db-420e-9c09-c68d4c7ca01f",
   "metadata": {},
   "source": [
    "## Problem_5: How can we create a pool of worker processes in python using the multiprocessing module?"
   ]
  },
  {
   "cell_type": "code",
   "execution_count": 7,
   "id": "dfe405d9-b039-4c62-a8ce-9fd5e303d618",
   "metadata": {},
   "outputs": [
    {
     "name": "stdout",
     "output_type": "stream",
     "text": [
      "Squares: [1, 4, 9, 16, 25]\n"
     ]
    }
   ],
   "source": [
    "from multiprocessing.pool import Pool\n",
    "\n",
    "def square(x):\n",
    "  \"\"\"Squares the input number\"\"\"\n",
    "  return x * x\n",
    "\n",
    "if __name__ == '__main__':\n",
    "  # Create a pool with 4 worker processes\n",
    "  with Pool(processes=4) as pool:\n",
    "    # Use map to calculate squares of numbers in a list\n",
    "    numbers = [1, 2, 3, 4, 5]\n",
    "    squares = pool.map(square, numbers)\n",
    "\n",
    "    # Print the squared results\n",
    "    print(\"Squares:\", squares)"
   ]
  },
  {
   "cell_type": "markdown",
   "id": "2b67abde-b461-4608-97df-9b3a47b0400c",
   "metadata": {},
   "source": [
    "## Problem_6: Write a Python program to create 4 processes, each process should print a different number using the multiprocessing module in python."
   ]
  },
  {
   "cell_type": "code",
   "execution_count": 7,
   "id": "e983115e-e157-4762-a723-d0d21d0a39e5",
   "metadata": {},
   "outputs": [
    {
     "name": "stdout",
     "output_type": "stream",
     "text": [
      "Process 1: 1\n",
      "Process 2: 2\n",
      "Process 3: 3\n",
      "Process 4: 4\n",
      "Main process continues.\n"
     ]
    }
   ],
   "source": [
    "import multiprocessing\n",
    "\n",
    "def print_number(number):\n",
    "    print(f\"Process {number}: {number}\")\n",
    "\n",
    "if __name__ == \"__main__\":\n",
    "    # Create a list of numbers to be printed by each process\n",
    "    numbers = [1, 2, 3, 4]\n",
    "\n",
    "    # Create a list to hold the processes\n",
    "    processes = []\n",
    "\n",
    "    # Create and start a process for each number\n",
    "    for number in numbers:\n",
    "        process = multiprocessing.Process(target=print_number, args=(number,))\n",
    "        processes.append(process)\n",
    "        process.start()\n",
    "\n",
    "    # Wait for all processes to finish\n",
    "    for process in processes:\n",
    "        process.join()\n",
    " \n",
    "    print(\"Main process continues.\") "
   ]
  }
 ],
 "metadata": {
  "kernelspec": {
   "display_name": "Python 3 (ipykernel)",
   "language": "python",
   "name": "python3"
  },
  "language_info": {
   "codemirror_mode": {
    "name": "ipython",
    "version": 3
   },
   "file_extension": ".py",
   "mimetype": "text/x-python",
   "name": "python",
   "nbconvert_exporter": "python",
   "pygments_lexer": "ipython3",
   "version": "3.10.8"
  }
 },
 "nbformat": 4,
 "nbformat_minor": 5
}
